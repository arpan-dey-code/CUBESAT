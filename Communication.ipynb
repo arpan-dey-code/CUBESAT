{
 "cells": [
  {
   "cell_type": "code",
   "execution_count": 2,
   "metadata": {},
   "outputs": [
    {
     "name": "stdout",
     "output_type": "stream",
     "text": [
      "The data rate is: 37500.00 bps\n"
     ]
    }
   ],
   "source": [
    "def calculate_data_rate(sf, bw, cr):\n",
    "    return (sf * bw) / (2 ** sf) * cr\n",
    "\n",
    "def main():\n",
    "    try:\n",
    "        # Take inputs from the user\n",
    "        sf = int(input(\"Enter the spreading factor (SF) [6-12]: \"))\n",
    "        if not 6 <= sf <= 12:\n",
    "            raise ValueError(\"Spreading factor\")\n",
    "        \n",
    "        bw = float(input(\"Enter the bandwidth (kHz) [125, 250, 500]: \")) * 1e3\n",
    "        if bw not in [125e3, 250e3, 500e3]:\n",
    "            raise ValueError(\"Bandwidth must be one of 125 kHz, 250 kHz, or 500 kHz.\")\n",
    "        \n",
    "        cr_num = 4\n",
    "        cr_den = int(input(\"Enter the coding rate denominator (5, 6, 7, 8): \"))\n",
    "        if cr_num != 4 or cr_den not in [5, 6, 7, 8]:\n",
    "            raise ValueError(\"Coding rate must be in the form 4/5, 4/6, 4/7, or 4/8.\")\n",
    "        \n",
    "        cr = cr_num / cr_den\n",
    "\n",
    "        # Calculate the data rate\n",
    "        data_rate = calculate_data_rate(sf, bw, cr)\n",
    "        print(f\"The data rate is: {data_rate:.2f} bps\")\n",
    "    \n",
    "    except ValueError as e:\n",
    "        print(f\"Invalid input: {e}\")\n",
    "\n",
    "if __name__ == \"__main__\":\n",
    "    main()\n"
   ]
  }
 ],
 "metadata": {
  "kernelspec": {
   "display_name": "Python 3",
   "language": "python",
   "name": "python3"
  },
  "language_info": {
   "codemirror_mode": {
    "name": "ipython",
    "version": 3
   },
   "file_extension": ".py",
   "mimetype": "text/x-python",
   "name": "python",
   "nbconvert_exporter": "python",
   "pygments_lexer": "ipython3",
   "version": "3.9.0"
  }
 },
 "nbformat": 4,
 "nbformat_minor": 2
}
